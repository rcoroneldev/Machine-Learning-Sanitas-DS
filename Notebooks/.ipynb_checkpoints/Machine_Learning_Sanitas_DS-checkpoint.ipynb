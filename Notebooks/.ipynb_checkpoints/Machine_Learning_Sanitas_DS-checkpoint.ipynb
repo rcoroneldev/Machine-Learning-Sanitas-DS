{
 "cells": [
  {
   "cell_type": "markdown",
   "metadata": {
    "colab_type": "text",
    "id": "view-in-github"
   },
   "source": [
    "<a href=\"https://colab.research.google.com/github/rcoroneldev/Machine-Learning-Sanitas-DS/blob/main/Machine_Learning_Sanitas_DS.ipynb\" target=\"_parent\"><img src=\"https://colab.research.google.com/assets/colab-badge.svg\" alt=\"Open In Colab\"/></a>"
   ]
  },
  {
   "cell_type": "markdown",
   "metadata": {
    "id": "m-mB_GxKk7m6"
   },
   "source": [
    "# Customer Churn Prediction in Sanitas Case\n",
    " ### Pasos para resolver el problema\n",
    "\n",
    "1. Definir el problema a resolver.\n",
    "2. Obtener los datos. \n",
    "3. Analisis exploratorio de datos (EDA)\n",
    "3. Preparar y limpiar los datos (Data preparation).\n",
    "3. Visualizacion de los datos.\n",
    "4. Modelado.  \n",
    "5. Evaluacion de Modelo.\n",
    "6. Despliegue.\n",
    "7. Conclusion.\n",
    "\n",
    "\n"
   ]
  },
  {
   "cell_type": "markdown",
   "metadata": {
    "id": "msmcIQC5n20o"
   },
   "source": [
    "# Instalacion y importacion de librerias"
   ]
  },
  {
   "cell_type": "code",
   "execution_count": 1,
   "metadata": {
    "id": "ve8xuW2nn7MR"
   },
   "outputs": [],
   "source": [
    "# libraries of data analysis\n",
    "import pandas as pd\n",
    "#import xlrd\n",
    "import numpy as np\n",
    "\n",
    "\n",
    "# librries of visualization\n",
    "import matplotlib.pyplot as plt\n",
    "%matplotlib inline\n",
    "\n",
    "import seaborn as sns\n",
    "\n",
    "# machine libraries\n",
    "from sklearn.linear_model import LogisticRegression\n",
    "from sklearn.tree import DecisionTreeClassifier"
   ]
  },
  {
   "cell_type": "markdown",
   "metadata": {
    "id": "xu_H40S38y_F"
   },
   "source": [
    "# 1. Definicion de problema a resolver"
   ]
  },
  {
   "cell_type": "markdown",
   "metadata": {
    "id": "7OdxwQmeeeY6"
   },
   "source": [
    "# "
   ]
  },
  {
   "cell_type": "markdown",
   "metadata": {
    "cell_style": "center",
    "id": "r2yjLmG789SD"
   },
   "source": [
    "# 2. Obtener de los datos"
   ]
  },
  {
   "cell_type": "markdown",
   "metadata": {
    "id": "jOvgst23H69v"
   },
   "source": [
    "## Load dataset"
   ]
  },
  {
   "cell_type": "code",
   "execution_count": 2,
   "metadata": {
    "colab": {
     "base_uri": "https://localhost:8080/",
     "height": 537
    },
    "id": "Kv5OxSAlD3wA",
    "outputId": "9b2b8d9e-a37f-4e91-8189-079d51ea02ba"
   },
   "outputs": [
    {
     "name": "stdout",
     "output_type": "stream",
     "text": [
      "START CODE\n",
      "END CODE\n"
     ]
    },
    {
     "data": {
      "text/html": [
       "<div>\n",
       "<style scoped>\n",
       "    .dataframe tbody tr th:only-of-type {\n",
       "        vertical-align: middle;\n",
       "    }\n",
       "\n",
       "    .dataframe tbody tr th {\n",
       "        vertical-align: top;\n",
       "    }\n",
       "\n",
       "    .dataframe thead th {\n",
       "        text-align: right;\n",
       "    }\n",
       "</style>\n",
       "<table border=\"1\" class=\"dataframe\">\n",
       "  <thead>\n",
       "    <tr style=\"text-align: right;\">\n",
       "      <th></th>\n",
       "      <th>ID</th>\n",
       "      <th>INGRESO_201710</th>\n",
       "      <th>INGRESO_201711</th>\n",
       "      <th>INGRESO_201712</th>\n",
       "      <th>INGRESO_201801</th>\n",
       "      <th>INGRESO_201802</th>\n",
       "      <th>INGRESO_201803</th>\n",
       "      <th>INGRESO_201804</th>\n",
       "      <th>INGRESO_201805</th>\n",
       "      <th>INGRESO_201806</th>\n",
       "      <th>...</th>\n",
       "      <th>DEPARTAMENTO</th>\n",
       "      <th>PROVINCIA</th>\n",
       "      <th>DISTRITO</th>\n",
       "      <th>MACRO_REGION</th>\n",
       "      <th>TIPO_PAGO</th>\n",
       "      <th>vp_primas</th>\n",
       "      <th>vp_siniestros</th>\n",
       "      <th>vp_tecnico</th>\n",
       "      <th>vp_gastos</th>\n",
       "      <th>VP_OPERATIVO</th>\n",
       "    </tr>\n",
       "  </thead>\n",
       "  <tbody>\n",
       "    <tr>\n",
       "      <th>0</th>\n",
       "      <td>1</td>\n",
       "      <td>849.00</td>\n",
       "      <td>849.00</td>\n",
       "      <td>849.00</td>\n",
       "      <td>849.00</td>\n",
       "      <td>849.00</td>\n",
       "      <td>849.00</td>\n",
       "      <td>849.00</td>\n",
       "      <td>849.00</td>\n",
       "      <td>849.00</td>\n",
       "      <td>...</td>\n",
       "      <td>UCAYALI</td>\n",
       "      <td>CORONEL</td>\n",
       "      <td>CALLERIA</td>\n",
       "      <td>SELVA</td>\n",
       "      <td>DEBITO</td>\n",
       "      <td>2754.68920</td>\n",
       "      <td>1660.55460</td>\n",
       "      <td>1066.23010</td>\n",
       "      <td>521.49500</td>\n",
       "      <td>544.73511</td>\n",
       "    </tr>\n",
       "    <tr>\n",
       "      <th>1</th>\n",
       "      <td>2</td>\n",
       "      <td>857.00</td>\n",
       "      <td>857.00</td>\n",
       "      <td>857.00</td>\n",
       "      <td>857.00</td>\n",
       "      <td>857.00</td>\n",
       "      <td>857.00</td>\n",
       "      <td>857.00</td>\n",
       "      <td>857.00</td>\n",
       "      <td>857.00</td>\n",
       "      <td>...</td>\n",
       "      <td>UCAYALI</td>\n",
       "      <td>CORONEL</td>\n",
       "      <td>CALLERIA</td>\n",
       "      <td>SELVA</td>\n",
       "      <td>EFECTIVO</td>\n",
       "      <td>20851.59600</td>\n",
       "      <td>13848.71600</td>\n",
       "      <td>6791.65720</td>\n",
       "      <td>2850.57350</td>\n",
       "      <td>3941.08400</td>\n",
       "    </tr>\n",
       "    <tr>\n",
       "      <th>2</th>\n",
       "      <td>3</td>\n",
       "      <td>4319.05</td>\n",
       "      <td>4319.05</td>\n",
       "      <td>4276.78</td>\n",
       "      <td>4140.73</td>\n",
       "      <td>4140.73</td>\n",
       "      <td>4140.73</td>\n",
       "      <td>4140.73</td>\n",
       "      <td>3278.82</td>\n",
       "      <td>3278.82</td>\n",
       "      <td>...</td>\n",
       "      <td>UCAYALI</td>\n",
       "      <td>CORONEL</td>\n",
       "      <td>CALLERIA</td>\n",
       "      <td>SELVA</td>\n",
       "      <td>CREDITO</td>\n",
       "      <td>6860.87060</td>\n",
       "      <td>4427.81640</td>\n",
       "      <td>2363.55440</td>\n",
       "      <td>2520.37260</td>\n",
       "      <td>-156.81792</td>\n",
       "    </tr>\n",
       "    <tr>\n",
       "      <th>3</th>\n",
       "      <td>4</td>\n",
       "      <td>4000.00</td>\n",
       "      <td>4000.00</td>\n",
       "      <td>4000.00</td>\n",
       "      <td>4000.00</td>\n",
       "      <td>4000.00</td>\n",
       "      <td>4000.00</td>\n",
       "      <td>4000.00</td>\n",
       "      <td>4000.00</td>\n",
       "      <td>4000.00</td>\n",
       "      <td>...</td>\n",
       "      <td>UCAYALI</td>\n",
       "      <td>CORONEL</td>\n",
       "      <td>CALLERIA</td>\n",
       "      <td>SELVA</td>\n",
       "      <td>DEBITO</td>\n",
       "      <td>9865.31540</td>\n",
       "      <td>5627.26070</td>\n",
       "      <td>4138.12060</td>\n",
       "      <td>1438.12510</td>\n",
       "      <td>2699.99560</td>\n",
       "    </tr>\n",
       "    <tr>\n",
       "      <th>4</th>\n",
       "      <td>5</td>\n",
       "      <td>4000.00</td>\n",
       "      <td>4000.00</td>\n",
       "      <td>4000.00</td>\n",
       "      <td>4000.00</td>\n",
       "      <td>4000.00</td>\n",
       "      <td>4000.00</td>\n",
       "      <td>4000.00</td>\n",
       "      <td>4000.00</td>\n",
       "      <td>4000.00</td>\n",
       "      <td>...</td>\n",
       "      <td>UCAYALI</td>\n",
       "      <td>CORONEL</td>\n",
       "      <td>CALLERIA</td>\n",
       "      <td>SELVA</td>\n",
       "      <td>DEBITO</td>\n",
       "      <td>9865.31540</td>\n",
       "      <td>5627.26070</td>\n",
       "      <td>4138.12060</td>\n",
       "      <td>1438.12510</td>\n",
       "      <td>2699.99560</td>\n",
       "    </tr>\n",
       "    <tr>\n",
       "      <th>...</th>\n",
       "      <td>...</td>\n",
       "      <td>...</td>\n",
       "      <td>...</td>\n",
       "      <td>...</td>\n",
       "      <td>...</td>\n",
       "      <td>...</td>\n",
       "      <td>...</td>\n",
       "      <td>...</td>\n",
       "      <td>...</td>\n",
       "      <td>...</td>\n",
       "      <td>...</td>\n",
       "      <td>...</td>\n",
       "      <td>...</td>\n",
       "      <td>...</td>\n",
       "      <td>...</td>\n",
       "      <td>...</td>\n",
       "      <td>...</td>\n",
       "      <td>...</td>\n",
       "      <td>...</td>\n",
       "      <td>...</td>\n",
       "      <td>...</td>\n",
       "    </tr>\n",
       "    <tr>\n",
       "      <th>20297</th>\n",
       "      <td>20298</td>\n",
       "      <td>NaN</td>\n",
       "      <td>NaN</td>\n",
       "      <td>NaN</td>\n",
       "      <td>NaN</td>\n",
       "      <td>NaN</td>\n",
       "      <td>NaN</td>\n",
       "      <td>NaN</td>\n",
       "      <td>NaN</td>\n",
       "      <td>NaN</td>\n",
       "      <td>...</td>\n",
       "      <td>PASCO</td>\n",
       "      <td>OXAPAMPA</td>\n",
       "      <td>OXAPAMPA</td>\n",
       "      <td>SIERRA_CENTR</td>\n",
       "      <td>EFECTIVO</td>\n",
       "      <td>544.32782</td>\n",
       "      <td>60.92601</td>\n",
       "      <td>477.88785</td>\n",
       "      <td>180.59570</td>\n",
       "      <td>297.29214</td>\n",
       "    </tr>\n",
       "    <tr>\n",
       "      <th>20298</th>\n",
       "      <td>20299</td>\n",
       "      <td>NaN</td>\n",
       "      <td>NaN</td>\n",
       "      <td>NaN</td>\n",
       "      <td>NaN</td>\n",
       "      <td>NaN</td>\n",
       "      <td>NaN</td>\n",
       "      <td>NaN</td>\n",
       "      <td>NaN</td>\n",
       "      <td>NaN</td>\n",
       "      <td>...</td>\n",
       "      <td>LIMA</td>\n",
       "      <td>LIMA</td>\n",
       "      <td>MIRAFLORES</td>\n",
       "      <td>LIMA_MODERNA</td>\n",
       "      <td>CREDITO</td>\n",
       "      <td>3870.39330</td>\n",
       "      <td>712.52173</td>\n",
       "      <td>3118.66500</td>\n",
       "      <td>760.65186</td>\n",
       "      <td>2358.01320</td>\n",
       "    </tr>\n",
       "    <tr>\n",
       "      <th>20299</th>\n",
       "      <td>20300</td>\n",
       "      <td>NaN</td>\n",
       "      <td>NaN</td>\n",
       "      <td>NaN</td>\n",
       "      <td>NaN</td>\n",
       "      <td>NaN</td>\n",
       "      <td>NaN</td>\n",
       "      <td>NaN</td>\n",
       "      <td>NaN</td>\n",
       "      <td>NaN</td>\n",
       "      <td>...</td>\n",
       "      <td>LIMA</td>\n",
       "      <td>LIMA</td>\n",
       "      <td>BARRANCO</td>\n",
       "      <td>LIMA_MODERNA</td>\n",
       "      <td>CREDITO</td>\n",
       "      <td>1910.61120</td>\n",
       "      <td>192.75365</td>\n",
       "      <td>1698.50340</td>\n",
       "      <td>458.65381</td>\n",
       "      <td>1239.84950</td>\n",
       "    </tr>\n",
       "    <tr>\n",
       "      <th>20300</th>\n",
       "      <td>20301</td>\n",
       "      <td>NaN</td>\n",
       "      <td>NaN</td>\n",
       "      <td>NaN</td>\n",
       "      <td>NaN</td>\n",
       "      <td>NaN</td>\n",
       "      <td>NaN</td>\n",
       "      <td>NaN</td>\n",
       "      <td>NaN</td>\n",
       "      <td>NaN</td>\n",
       "      <td>...</td>\n",
       "      <td>CUSCO</td>\n",
       "      <td>URUBAMBA</td>\n",
       "      <td>URUBAMBA</td>\n",
       "      <td>SIERRA_SUR</td>\n",
       "      <td>CREDITO</td>\n",
       "      <td>3164.02370</td>\n",
       "      <td>818.63831</td>\n",
       "      <td>2313.33450</td>\n",
       "      <td>586.72168</td>\n",
       "      <td>1726.61270</td>\n",
       "    </tr>\n",
       "    <tr>\n",
       "      <th>20301</th>\n",
       "      <td>20302</td>\n",
       "      <td>NaN</td>\n",
       "      <td>NaN</td>\n",
       "      <td>NaN</td>\n",
       "      <td>NaN</td>\n",
       "      <td>NaN</td>\n",
       "      <td>NaN</td>\n",
       "      <td>NaN</td>\n",
       "      <td>NaN</td>\n",
       "      <td>NaN</td>\n",
       "      <td>...</td>\n",
       "      <td>LIMA</td>\n",
       "      <td>LIMA</td>\n",
       "      <td>SANTIAGO DE SURCO</td>\n",
       "      <td>LIMA_MODERNA</td>\n",
       "      <td>CREDITO</td>\n",
       "      <td>12853.93200</td>\n",
       "      <td>6721.21580</td>\n",
       "      <td>6002.50730</td>\n",
       "      <td>1880.07430</td>\n",
       "      <td>4122.43310</td>\n",
       "    </tr>\n",
       "  </tbody>\n",
       "</table>\n",
       "<p>20302 rows × 400 columns</p>\n",
       "</div>"
      ],
      "text/plain": [
       "          ID  INGRESO_201710  INGRESO_201711  INGRESO_201712  INGRESO_201801  \\\n",
       "0          1          849.00          849.00          849.00          849.00   \n",
       "1          2          857.00          857.00          857.00          857.00   \n",
       "2          3         4319.05         4319.05         4276.78         4140.73   \n",
       "3          4         4000.00         4000.00         4000.00         4000.00   \n",
       "4          5         4000.00         4000.00         4000.00         4000.00   \n",
       "...      ...             ...             ...             ...             ...   \n",
       "20297  20298             NaN             NaN             NaN             NaN   \n",
       "20298  20299             NaN             NaN             NaN             NaN   \n",
       "20299  20300             NaN             NaN             NaN             NaN   \n",
       "20300  20301             NaN             NaN             NaN             NaN   \n",
       "20301  20302             NaN             NaN             NaN             NaN   \n",
       "\n",
       "       INGRESO_201802  INGRESO_201803  INGRESO_201804  INGRESO_201805  \\\n",
       "0              849.00          849.00          849.00          849.00   \n",
       "1              857.00          857.00          857.00          857.00   \n",
       "2             4140.73         4140.73         4140.73         3278.82   \n",
       "3             4000.00         4000.00         4000.00         4000.00   \n",
       "4             4000.00         4000.00         4000.00         4000.00   \n",
       "...               ...             ...             ...             ...   \n",
       "20297             NaN             NaN             NaN             NaN   \n",
       "20298             NaN             NaN             NaN             NaN   \n",
       "20299             NaN             NaN             NaN             NaN   \n",
       "20300             NaN             NaN             NaN             NaN   \n",
       "20301             NaN             NaN             NaN             NaN   \n",
       "\n",
       "       INGRESO_201806  ...  DEPARTAMENTO  PROVINCIA           DISTRITO  \\\n",
       "0              849.00  ...       UCAYALI    CORONEL           CALLERIA   \n",
       "1              857.00  ...       UCAYALI    CORONEL           CALLERIA   \n",
       "2             3278.82  ...       UCAYALI    CORONEL           CALLERIA   \n",
       "3             4000.00  ...       UCAYALI    CORONEL           CALLERIA   \n",
       "4             4000.00  ...       UCAYALI    CORONEL           CALLERIA   \n",
       "...               ...  ...           ...        ...                ...   \n",
       "20297             NaN  ...         PASCO   OXAPAMPA           OXAPAMPA   \n",
       "20298             NaN  ...          LIMA       LIMA         MIRAFLORES   \n",
       "20299             NaN  ...          LIMA       LIMA           BARRANCO   \n",
       "20300             NaN  ...         CUSCO   URUBAMBA           URUBAMBA   \n",
       "20301             NaN  ...          LIMA       LIMA  SANTIAGO DE SURCO   \n",
       "\n",
       "       MACRO_REGION  TIPO_PAGO    vp_primas  vp_siniestros  vp_tecnico  \\\n",
       "0             SELVA     DEBITO   2754.68920     1660.55460  1066.23010   \n",
       "1             SELVA   EFECTIVO  20851.59600    13848.71600  6791.65720   \n",
       "2             SELVA    CREDITO   6860.87060     4427.81640  2363.55440   \n",
       "3             SELVA     DEBITO   9865.31540     5627.26070  4138.12060   \n",
       "4             SELVA     DEBITO   9865.31540     5627.26070  4138.12060   \n",
       "...             ...        ...          ...            ...         ...   \n",
       "20297  SIERRA_CENTR   EFECTIVO    544.32782       60.92601   477.88785   \n",
       "20298  LIMA_MODERNA    CREDITO   3870.39330      712.52173  3118.66500   \n",
       "20299  LIMA_MODERNA    CREDITO   1910.61120      192.75365  1698.50340   \n",
       "20300    SIERRA_SUR    CREDITO   3164.02370      818.63831  2313.33450   \n",
       "20301  LIMA_MODERNA    CREDITO  12853.93200     6721.21580  6002.50730   \n",
       "\n",
       "        vp_gastos  VP_OPERATIVO  \n",
       "0       521.49500     544.73511  \n",
       "1      2850.57350    3941.08400  \n",
       "2      2520.37260    -156.81792  \n",
       "3      1438.12510    2699.99560  \n",
       "4      1438.12510    2699.99560  \n",
       "...           ...           ...  \n",
       "20297   180.59570     297.29214  \n",
       "20298   760.65186    2358.01320  \n",
       "20299   458.65381    1239.84950  \n",
       "20300   586.72168    1726.61270  \n",
       "20301  1880.07430    4122.43310  \n",
       "\n",
       "[20302 rows x 400 columns]"
      ]
     },
     "execution_count": 2,
     "metadata": {},
     "output_type": "execute_result"
    }
   ],
   "source": [
    "# Lectura de los datos\n",
    "print(\"START CODE\")\n",
    "df = pd.read_excel('../Dataset_Caso_SANITASF.xlsx')\n",
    "print(\"END CODE\")\n",
    "df"
   ]
  },
  {
   "cell_type": "markdown",
   "metadata": {
    "id": "9rPFlslY9Muf"
   },
   "source": [
    "# 3. Preparar y limpiar los datos (Data preparation)\n"
   ]
  },
  {
   "cell_type": "markdown",
   "metadata": {
    "id": "BI0m7-muB2gw"
   },
   "source": [
    "## Data Transformation"
   ]
  },
  {
   "cell_type": "markdown",
   "metadata": {
    "id": "1sWPkpe3DdwL"
   },
   "source": [
    "### Remove Columns"
   ]
  },
  {
   "cell_type": "markdown",
   "metadata": {
    "id": "sLmCNElAIHtL"
   },
   "source": [
    "### Transform columns in upper case"
   ]
  },
  {
   "cell_type": "code",
   "execution_count": null,
   "metadata": {
    "id": "cuWlt_wNDvnr"
   },
   "outputs": [],
   "source": []
  },
  {
   "cell_type": "markdown",
   "metadata": {
    "id": "ylBbNAMxBX-y"
   },
   "source": [
    "## Data Reduction\n"
   ]
  },
  {
   "cell_type": "markdown",
   "metadata": {
    "id": "4uiObboPFuAs"
   },
   "source": [
    "### PCA"
   ]
  },
  {
   "cell_type": "code",
   "execution_count": null,
   "metadata": {
    "id": "bG1D9_LvGJdj"
   },
   "outputs": [],
   "source": []
  },
  {
   "cell_type": "markdown",
   "metadata": {
    "id": "an1RQYZHFq8T"
   },
   "source": [
    "## Data Cleaning"
   ]
  },
  {
   "cell_type": "markdown",
   "metadata": {
    "id": "Wc8z2otsBqOp"
   },
   "source": [
    "### Missing Values"
   ]
  },
  {
   "cell_type": "markdown",
   "metadata": {
    "id": "uNOp4V4JIqb0"
   },
   "source": [
    "#### Remove NaN"
   ]
  },
  {
   "cell_type": "code",
   "execution_count": null,
   "metadata": {
    "id": "45_3y0wFlws9"
   },
   "outputs": [],
   "source": []
  },
  {
   "cell_type": "markdown",
   "metadata": {
    "id": "YdAmojxPll02"
   },
   "source": [
    "#### Look for missing values"
   ]
  },
  {
   "cell_type": "code",
   "execution_count": null,
   "metadata": {
    "id": "TEPm0d-_GG5Q"
   },
   "outputs": [],
   "source": []
  },
  {
   "cell_type": "markdown",
   "metadata": {
    "id": "b_QT9eYsES7f"
   },
   "source": [
    "#### Data imputation"
   ]
  },
  {
   "cell_type": "code",
   "execution_count": null,
   "metadata": {
    "id": "BlOThiLLDxhK"
   },
   "outputs": [],
   "source": []
  },
  {
   "cell_type": "markdown",
   "metadata": {
    "id": "_EEgoP10B6rd"
   },
   "source": [
    "### Outliers"
   ]
  },
  {
   "cell_type": "markdown",
   "metadata": {
    "id": "nXl43S0VJJXA"
   },
   "source": [
    "### Duplicate Data"
   ]
  },
  {
   "cell_type": "markdown",
   "metadata": {
    "id": "YuZjy0ZXJYwk"
   },
   "source": [
    "#### Drop duplicate"
   ]
  },
  {
   "cell_type": "markdown",
   "metadata": {
    "id": "tTvz7VXuJNci"
   },
   "source": []
  },
  {
   "cell_type": "code",
   "execution_count": null,
   "metadata": {
    "id": "ZWmOme6kDyID"
   },
   "outputs": [],
   "source": []
  },
  {
   "cell_type": "markdown",
   "metadata": {
    "id": "x8LO36EP9Mym"
   },
   "source": [
    "# 4. Analisis exploratorio de datos (EDA)"
   ]
  },
  {
   "cell_type": "markdown",
   "metadata": {
    "id": "eTvvRFi89M1L"
   },
   "source": [
    "# 5. Visualizacion de los datos"
   ]
  },
  {
   "cell_type": "markdown",
   "metadata": {
    "id": "P4ko4b8E9M4O"
   },
   "source": [
    "# 4. Modelado.  "
   ]
  },
  {
   "cell_type": "markdown",
   "metadata": {
    "id": "bsGa3zhD9M7S"
   },
   "source": [
    " # 5. Evaluacion de Modelo."
   ]
  },
  {
   "cell_type": "markdown",
   "metadata": {
    "id": "2EP03DYh_D6k"
   },
   "source": [
    "# 6. Despliegue."
   ]
  }
 ],
 "metadata": {
  "accelerator": "GPU",
  "colab": {
   "collapsed_sections": [],
   "include_colab_link": true,
   "name": " Machine-Learning-Sanitas-DS.ipynb",
   "provenance": []
  },
  "kernelspec": {
   "display_name": "Python 3 (ipykernel)",
   "language": "python",
   "name": "python3"
  },
  "language_info": {
   "codemirror_mode": {
    "name": "ipython",
    "version": 3
   },
   "file_extension": ".py",
   "mimetype": "text/x-python",
   "name": "python",
   "nbconvert_exporter": "python",
   "pygments_lexer": "ipython3",
   "version": "3.9.7"
  },
  "toc": {
   "base_numbering": 1,
   "nav_menu": {},
   "number_sections": true,
   "sideBar": true,
   "skip_h1_title": false,
   "title_cell": "Table of Contents",
   "title_sidebar": "Contents",
   "toc_cell": false,
   "toc_position": {},
   "toc_section_display": true,
   "toc_window_display": true
  },
  "varInspector": {
   "cols": {
    "lenName": 16,
    "lenType": 16,
    "lenVar": 40
   },
   "kernels_config": {
    "python": {
     "delete_cmd_postfix": "",
     "delete_cmd_prefix": "del ",
     "library": "var_list.py",
     "varRefreshCmd": "print(var_dic_list())"
    },
    "r": {
     "delete_cmd_postfix": ") ",
     "delete_cmd_prefix": "rm(",
     "library": "var_list.r",
     "varRefreshCmd": "cat(var_dic_list()) "
    }
   },
   "types_to_exclude": [
    "module",
    "function",
    "builtin_function_or_method",
    "instance",
    "_Feature"
   ],
   "window_display": false
  }
 },
 "nbformat": 4,
 "nbformat_minor": 1
}
