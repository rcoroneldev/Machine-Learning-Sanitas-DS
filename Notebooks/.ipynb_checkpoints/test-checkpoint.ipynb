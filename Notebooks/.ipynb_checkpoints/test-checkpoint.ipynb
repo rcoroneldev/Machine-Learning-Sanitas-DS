{
 "cells": [
  {
   "cell_type": "code",
   "execution_count": null,
   "metadata": {},
   "outputs": [],
   "source": []
  }
 ],
 "metadata": {
  "interpreter": {
   "hash": "65fde2c187d42fb68de6a794b0cdf3cf679f712b71964e6dce8803790d79cf9f"
  },
  "kernelspec": {
   "display_name": "Python 3.9.7 64-bit ('Machine-Learning-DS': conda)",
   "language": "python",
   "name": "python3"
  },
  "language_info": {
   "name": "python",
   "version": "3.9.7"
  }
 },
 "nbformat": 4,
 "nbformat_minor": 5
}
