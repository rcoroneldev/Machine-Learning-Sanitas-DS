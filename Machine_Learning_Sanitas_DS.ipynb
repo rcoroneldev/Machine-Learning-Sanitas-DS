{
  "nbformat": 4,
  "nbformat_minor": 0,
  "metadata": {
    "colab": {
      "name": " Machine-Learning-Sanitas-DS.ipynb",
      "provenance": [],
      "collapsed_sections": [],
      "toc_visible": true,
      "authorship_tag": "ABX9TyMLhapYs+/zXJ03sW6aAhQS",
      "include_colab_link": true
    },
    "kernelspec": {
      "name": "python3",
      "display_name": "Python 3"
    },
    "language_info": {
      "name": "python"
    }
  },
  "cells": [
    {
      "cell_type": "markdown",
      "metadata": {
        "id": "view-in-github",
        "colab_type": "text"
      },
      "source": [
        "<a href=\"https://colab.research.google.com/github/rcoroneldev/Machine-Learning-Sanitas-DS/blob/main/Machine_Learning_Sanitas_DS.ipynb\" target=\"_parent\"><img src=\"https://colab.research.google.com/assets/colab-badge.svg\" alt=\"Open In Colab\"/></a>"
      ]
    },
    {
      "cell_type": "markdown",
      "source": [
        "# Customer Churn Prediction in Sanitas Case\n",
        " ### Pasos para resolver el problema\n",
        "\n",
        "1. Definir el problema a resolver.\n",
        "2. Adquisicion de los datos. \n",
        "3. Preparar y limpiar los datos (Data preparation).\n",
        "2. Analisis exploratorio de datos (EDA)\n",
        "3. Visualizacion de los datos.\n",
        "4. Modelado.  \n",
        "5. Evaluacion de Modelo.\n",
        "6. Despliegue.\n",
        "7. Conclusion.\n",
        "\n",
        "\n"
      ],
      "metadata": {
        "id": "m-mB_GxKk7m6"
      }
    },
    {
      "cell_type": "markdown",
      "source": [
        "# Instalacion y importacion de librerias"
      ],
      "metadata": {
        "id": "msmcIQC5n20o"
      }
    },
    {
      "cell_type": "code",
      "source": [
        "import pandas as pd\n",
        "import numpy as np\n",
        "import matplotlib.pyplot as plt\n",
        "import seaborn as sns"
      ],
      "metadata": {
        "id": "ve8xuW2nn7MR"
      },
      "execution_count": 7,
      "outputs": []
    },
    {
      "cell_type": "markdown",
      "source": [
        "# 1. Definicion de problema a resolver"
      ],
      "metadata": {
        "id": "xu_H40S38y_F"
      }
    },
    {
      "cell_type": "markdown",
      "source": [
        "# "
      ],
      "metadata": {
        "id": "7OdxwQmeeeY6"
      }
    },
    {
      "cell_type": "markdown",
      "source": [
        "# 2. Adquisicion de los datos"
      ],
      "metadata": {
        "id": "r2yjLmG789SD"
      }
    },
    {
      "cell_type": "markdown",
      "source": [
        "## Load dataset"
      ],
      "metadata": {
        "id": "jOvgst23H69v"
      }
    },
    {
      "cell_type": "code",
      "source": [
        "# Lectura de los datos\n"
      ],
      "metadata": {
        "id": "Kv5OxSAlD3wA"
      },
      "execution_count": null,
      "outputs": []
    },
    {
      "cell_type": "code",
      "source": [
        ""
      ],
      "metadata": {
        "id": "61hxUHklfG0_"
      },
      "execution_count": null,
      "outputs": []
    },
    {
      "cell_type": "markdown",
      "source": [
        "# 3. Preparar y limpiar los datos (Data preparation)\n"
      ],
      "metadata": {
        "id": "9rPFlslY9Muf"
      }
    },
    {
      "cell_type": "markdown",
      "source": [
        "## Data Transformation"
      ],
      "metadata": {
        "id": "BI0m7-muB2gw"
      }
    },
    {
      "cell_type": "markdown",
      "source": [
        "### Remove Columns"
      ],
      "metadata": {
        "id": "1sWPkpe3DdwL"
      }
    },
    {
      "cell_type": "markdown",
      "source": [
        "### Transform columns in upper case"
      ],
      "metadata": {
        "id": "sLmCNElAIHtL"
      }
    },
    {
      "cell_type": "code",
      "source": [
        ""
      ],
      "metadata": {
        "id": "cuWlt_wNDvnr"
      },
      "execution_count": null,
      "outputs": []
    },
    {
      "cell_type": "markdown",
      "source": [
        "## Data Reduction\n"
      ],
      "metadata": {
        "id": "ylBbNAMxBX-y"
      }
    },
    {
      "cell_type": "markdown",
      "source": [
        "### PCA"
      ],
      "metadata": {
        "id": "4uiObboPFuAs"
      }
    },
    {
      "cell_type": "code",
      "source": [
        ""
      ],
      "metadata": {
        "id": "bG1D9_LvGJdj"
      },
      "execution_count": null,
      "outputs": []
    },
    {
      "cell_type": "markdown",
      "source": [
        "## Data Cleaning"
      ],
      "metadata": {
        "id": "an1RQYZHFq8T"
      }
    },
    {
      "cell_type": "markdown",
      "source": [
        "### Missing Values"
      ],
      "metadata": {
        "id": "Wc8z2otsBqOp"
      }
    },
    {
      "cell_type": "markdown",
      "source": [
        "#### Remove NaN"
      ],
      "metadata": {
        "id": "uNOp4V4JIqb0"
      }
    },
    {
      "cell_type": "code",
      "source": [
        ""
      ],
      "metadata": {
        "id": "45_3y0wFlws9"
      },
      "execution_count": null,
      "outputs": []
    },
    {
      "cell_type": "markdown",
      "source": [
        "#### Look for missing values"
      ],
      "metadata": {
        "id": "YdAmojxPll02"
      }
    },
    {
      "cell_type": "code",
      "source": [
        ""
      ],
      "metadata": {
        "id": "TEPm0d-_GG5Q"
      },
      "execution_count": null,
      "outputs": []
    },
    {
      "cell_type": "markdown",
      "source": [
        "#### Data imputation"
      ],
      "metadata": {
        "id": "b_QT9eYsES7f"
      }
    },
    {
      "cell_type": "code",
      "source": [
        ""
      ],
      "metadata": {
        "id": "BlOThiLLDxhK"
      },
      "execution_count": null,
      "outputs": []
    },
    {
      "cell_type": "markdown",
      "source": [
        "### Outliers"
      ],
      "metadata": {
        "id": "_EEgoP10B6rd"
      }
    },
    {
      "cell_type": "markdown",
      "source": [
        "### Duplicate Data"
      ],
      "metadata": {
        "id": "nXl43S0VJJXA"
      }
    },
    {
      "cell_type": "markdown",
      "source": [
        "#### Drop duplicate"
      ],
      "metadata": {
        "id": "YuZjy0ZXJYwk"
      }
    },
    {
      "cell_type": "markdown",
      "source": [
        ""
      ],
      "metadata": {
        "id": "tTvz7VXuJNci"
      }
    },
    {
      "cell_type": "code",
      "source": [
        ""
      ],
      "metadata": {
        "id": "ZWmOme6kDyID"
      },
      "execution_count": null,
      "outputs": []
    },
    {
      "cell_type": "markdown",
      "source": [
        "# 4. Analisis exploratorio de datos (EDA)"
      ],
      "metadata": {
        "id": "x8LO36EP9Mym"
      }
    },
    {
      "cell_type": "markdown",
      "source": [
        "# 5. Vsualizacion de los datos"
      ],
      "metadata": {
        "id": "eTvvRFi89M1L"
      }
    },
    {
      "cell_type": "markdown",
      "source": [
        "# 4. Modelado.  "
      ],
      "metadata": {
        "id": "P4ko4b8E9M4O"
      }
    },
    {
      "cell_type": "markdown",
      "source": [
        " # 5. Evaluacion de Modelo."
      ],
      "metadata": {
        "id": "bsGa3zhD9M7S"
      }
    },
    {
      "cell_type": "markdown",
      "source": [
        "# 6. Despliegue."
      ],
      "metadata": {
        "id": "2EP03DYh_D6k"
      }
    },
    {
      "cell_type": "code",
      "source": [
        ""
      ],
      "metadata": {
        "id": "H5JFGFPN83zy"
      },
      "execution_count": null,
      "outputs": []
    },
    {
      "cell_type": "code",
      "source": [
        ""
      ],
      "metadata": {
        "id": "L3LIDBzyn-7B"
      },
      "execution_count": null,
      "outputs": []
    },
    {
      "cell_type": "code",
      "source": [
        ""
      ],
      "metadata": {
        "id": "871HjV8G_vzT"
      },
      "execution_count": null,
      "outputs": []
    },
    {
      "cell_type": "code",
      "source": [
        ""
      ],
      "metadata": {
        "id": "9S2OD5S8_wMF"
      },
      "execution_count": null,
      "outputs": []
    },
    {
      "cell_type": "code",
      "source": [
        ""
      ],
      "metadata": {
        "id": "gdQHtD6j_wlb"
      },
      "execution_count": null,
      "outputs": []
    }
  ]
}